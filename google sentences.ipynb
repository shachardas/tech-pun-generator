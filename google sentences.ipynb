{
 "cells": [
  {
   "cell_type": "code",
   "execution_count": 1,
   "metadata": {},
   "outputs": [
    {
     "name": "stdout",
     "output_type": "stream",
     "text": [
      "done\n"
     ]
    }
   ],
   "source": [
    "from urllib import quote_plus\n",
    "import urllib2,cookielib\n",
    "import regex\n",
    "import codecs\n",
    "import lxml.etree as ET\n",
    "import regex\n",
    "from nltk.tokenize import sent_tokenize\n",
    "import nltk\n",
    "from multiprocessing.dummy import Pool as ThreadPool\n",
    "\n",
    "import pprint\n",
    "pp = pprint.PrettyPrinter(indent=4)\n",
    "print \"done\""
   ]
  },
  {
   "cell_type": "code",
   "execution_count": 2,
   "metadata": {},
   "outputs": [
    {
     "name": "stdout",
     "output_type": "stream",
     "text": [
      "[nltk_data] Downloading package averaged_perceptron_tagger to\n",
      "[nltk_data]     C:\\Users\\shachar\\AppData\\Roaming\\nltk_data...\n",
      "[nltk_data]   Package averaged_perceptron_tagger is already up-to-\n",
      "[nltk_data]       date!\n"
     ]
    },
    {
     "data": {
      "text/plain": [
       "True"
      ]
     },
     "execution_count": 2,
     "metadata": {},
     "output_type": "execute_result"
    }
   ],
   "source": [
    "nltk.download('averaged_perceptron_tagger')"
   ]
  },
  {
   "cell_type": "code",
   "execution_count": 3,
   "metadata": {},
   "outputs": [
    {
     "name": "stdout",
     "output_type": "stream",
     "text": [
      "start\n",
      "received: 273914\n",
      "received: 274264\n",
      "received: 274526\n",
      "received: 276268\n",
      "received: 275058\n",
      "received: 275249\n",
      "received: 276607\n",
      "received: 275784\n",
      "received: 275836\n",
      "received: 276497\n",
      "done!\n"
     ]
    }
   ],
   "source": [
    "### pick a word here ###\n",
    "searchedWord = \"big avocado\"\n",
    "\n",
    "# pull data from google\n",
    "def calculateParallel(func, numbers, threads=2):\n",
    "    pool = ThreadPool(threads)\n",
    "    results = pool.map(func, numbers)\n",
    "    pool.close()\n",
    "    pool.join()\n",
    "    return results\n",
    "\n",
    "def makeReq(i):\n",
    "    bracetedRequest = \"\\\"\"+searchedWord+\"\\\" filetype:pdf\"\n",
    "\n",
    "    site = \"https://www.google.co.il/search?q=\" + quote_plus(bracetedRequest) + \"&start=\" + str(i*10)\n",
    "    hdr = {'User-Agent': 'Mozilla/5.0 (X11; Linux x86_64) AppleWebKit/537.11 (KHTML, like Gecko) Chrome/23.0.1271.64 Safari/537.11',\n",
    "           'Accept': 'text/html,application/xhtml+xml,application/xml;q=0.9,*/*;q=0.8',\n",
    "           'Accept-Charset': 'ISO-8859-1,utf-8;q=0.7,*;q=0.3',\n",
    "           'Accept-Encoding': 'none',\n",
    "           'Accept-Language': 'en-US,en;q=0.8',\n",
    "           'Connection': 'keep-alive'}\n",
    "\n",
    "    req = urllib2.Request(site, headers=hdr)\n",
    "\n",
    "    try:\n",
    "        page = urllib2.urlopen(req)\n",
    "    except urllib2.HTTPError, e:\n",
    "        print e.fp.read()\n",
    "    \n",
    "    data = page.read()\n",
    "    print \"received:\",len(data)\n",
    "    return data\n",
    "\n",
    "print \"start\"\n",
    "results = calculateParallel(makeReq,range(10),10)\n",
    "\n",
    "content = \" \".join(results)\n",
    "print \"done!\"\n"
   ]
  },
  {
   "cell_type": "code",
   "execution_count": 4,
   "metadata": {},
   "outputs": [
    {
     "name": "stdout",
     "output_type": "stream",
     "text": [
      "ended up with text of length 30513\n"
     ]
    }
   ],
   "source": [
    "# parse\n",
    "text = content\n",
    "\n",
    "text = regex.sub(\"\\[http[^]]+? ([^]]+)]\", r\"\\1\", text) \n",
    "text = regex.sub(\"\\[http[^]]+]\", \"\", text) \n",
    "text = regex.sub(\"(?s)<script.+?</script>\", \"\", text) # remove scripts \n",
    "text = regex.sub(\"(?s)<style.+?</style>\", \"\", text) # remove scripts \n",
    "text = regex.sub(\"(?s)<ref>.+?</ref>\", \"\", text) # remove reference links\n",
    "text = regex.sub(\"(?s)<[^>]+>\", \"\", text) # remove html tags\n",
    "text = regex.sub(\"&[a-z]+;\", \"\", text) # remove html entities\n",
    "text = regex.sub(\"(?s){{.+?}}\", \"\", text) # remove markup tags\n",
    "text = regex.sub(\"(?s){.+?}\", \"\", text) # remove markup tags\n",
    "text = regex.sub(\"(?s)\\[\\[([^]]+\\|)\", \"\", text) # remove link target strings\n",
    "text = regex.sub(\"(?s)\\[\\[([^]]+\\:.+?]])\", \"\", text) # remove media links\n",
    "\n",
    "text = regex.sub(\"[']{5}\", \"\", text) # remove italic+bold symbols\n",
    "text = regex.sub(\"[']{3}\", \"\", text) # remove bold symbols\n",
    "text = regex.sub(\"[']{2}\", \"\", text) # remove italic symbols\n",
    "\n",
    "text = regex.sub(u\"[^ \\r\\n\\p{latin}}\\d'.?!]\", \" \", text)\n",
    "text = regex.sub(r'[^\\x00-\\x7F]+',' ', text)\n",
    "text = text.lower()\n",
    "\n",
    "text = regex.sub(\"[ ]{2,}\", \" \", text) # Squeeze spaces.\n",
    "\n",
    "paras = text.split(\"\\n\")\n",
    "final = \"\"\n",
    "for para in paras:\n",
    "    if len(para) > 500:\n",
    "        sents = [regex.sub(\"([.!?]+$)\", r\" \\1\", sent) for sent in sent_tokenize(para.strip())]\n",
    "        final += \" \".join(sents) + \"\\n\"\n",
    "\n",
    "print \"ended up with text of length\",len(final)"
   ]
  },
  {
   "cell_type": "code",
   "execution_count": 6,
   "metadata": {},
   "outputs": [
    {
     "name": "stdout",
     "output_type": "stream",
     "text": [
      "[   (   0.09523809523809523,\n",
      "        ' back to manila enroute make a stop at fruits stalls where you can pickup some mangoes big avocado and fresh strawberries.'),\n",
      "    (   0.1111111111111111,\n",
      "        ' enroute make a stop at fruits stalls where you can pickup some mangoes big avocado and fresh strawberries.'),\n",
      "    (   0.16666666666666666,\n",
      "        ' big avocado nor do they have a particularly apocalyptic sense of reality.'),\n",
      "    (   0.2222222222222222,\n",
      "        ' america was growing like your big avocado is growing.'),\n",
      "    (   0.23076923076923078,\n",
      "        ' here are some facts about seeds we will consider big avocado apricot peach.'),\n",
      "    (   0.25,\n",
      "        ' but the peace with dignity group said such payments were levied only on part of the population such as big avocado plantations and were help ful in some.'),\n",
      "    (   0.2857142857142857,\n",
      "        ' down the big avocado tree drops to the ground and heads right for me.'),\n",
      "    (   0.29411764705882354,\n",
      "        'has big avocado tree in centre of yard you are going to share the yard like a.'),\n",
      "    (   0.3333333333333333,\n",
      "        ' guacamole made with iqf tomato onion and cilantro with big avocado chunks for a homemade texture and flavor.'),\n",
      "    (   0.3333333333333333,\n",
      "        ' a big avocado tree got away on paul and he has no.'),\n",
      "    (0.3333333333333333, ' a clear direction the big game means big avocado.'),\n",
      "    (   0.3333333333333333,\n",
      "        ' she buys all kind of avocados but prefers the big avocado with green skin and.'),\n",
      "    (0.375, ' tumblegum and the big avocado getting a mention.'),\n",
      "    (   0.4,\n",
      "        ' determination of larval instars of the big avocado weevil heilipus.'),\n",
      "    (0.5714285714285714, ' big avocado seed weevil heilipus lauri boheman.')]\n"
     ]
    }
   ],
   "source": [
    "# sort by relevance\n",
    "raw = regex.findall(u\"[^\\s\\d\\w][\\s\\w]*\"+ searchedWord +\"[\\s\\w]*[^\\s\\d\\w]\", text)\n",
    "\n",
    "raw = [x[1:] for x in raw if len(x) <200 and len(x) > 30 and \"www\" not in x and not any(char.isdigit() for char in x) and \"pdf\" not in x]\n",
    "raw = list(set(raw))\n",
    "\n",
    "#pp.pprint(raw)\n",
    "ranked = [(float([x for (_,x) in nltk.pos_tag(y.split())].count('NN'))/len([x for (_,x) in nltk.pos_tag(y.split())]),y) for y in raw ]\n",
    "pp.pprint(sorted(ranked, key=lambda tup: abs(0.1-tup[0])))\n"
   ]
  },
  {
   "cell_type": "code",
   "execution_count": null,
   "metadata": {},
   "outputs": [],
   "source": []
  },
  {
   "cell_type": "code",
   "execution_count": null,
   "metadata": {},
   "outputs": [],
   "source": []
  }
 ],
 "metadata": {
  "kernelspec": {
   "display_name": "Python 2",
   "language": "python",
   "name": "python2"
  },
  "language_info": {
   "codemirror_mode": {
    "name": "ipython",
    "version": 2
   },
   "file_extension": ".py",
   "mimetype": "text/x-python",
   "name": "python",
   "nbconvert_exporter": "python",
   "pygments_lexer": "ipython2",
   "version": "2.7.14"
  }
 },
 "nbformat": 4,
 "nbformat_minor": 2
}
